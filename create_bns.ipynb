{
 "cells": [
  {
   "cell_type": "markdown",
   "metadata": {},
   "source": [
    "Encode images using InceptionV3's pre-fc layer\n",
    "\n",
    "------"
   ]
  },
  {
   "cell_type": "code",
   "execution_count": 1,
   "metadata": {
    "collapsed": true
   },
   "outputs": [],
   "source": [
    "import re\n",
    "import os\n",
    "import sys\n",
    "import exceptions\n",
    "import numpy as np\n",
    "from PIL import Image\n",
    "from tqdm import tqdm\n",
    "import tensorflow as tf\n",
    "import matplotlib.pyplot as plt"
   ]
  },
  {
   "cell_type": "code",
   "execution_count": 2,
   "metadata": {
    "collapsed": false
   },
   "outputs": [],
   "source": [
    "%matplotlib inline"
   ]
  },
  {
   "cell_type": "markdown",
   "metadata": {
    "collapsed": false
   },
   "source": [
    "---"
   ]
  },
  {
   "cell_type": "code",
   "execution_count": 3,
   "metadata": {
    "collapsed": true
   },
   "outputs": [],
   "source": [
    "# get files in directory\n",
    "def get_files(src_dir):\n",
    "    f = []\n",
    "    for (dirpath, dirnames, filenames) in os.walk(src_dir):\n",
    "        f.extend(filenames)\n",
    "        break\n",
    "    return f\n",
    "\n",
    "# create graph from pb file\n",
    "def create_graph(pb_file, sess):\n",
    "    with sess:        \n",
    "        with tf.gfile.FastGFile(pb_file, 'rb') as f:\n",
    "            graph_def = tf.GraphDef()\n",
    "            graph_def.ParseFromString(f.read())\n",
    "            tf.import_graph_def(graph_def, name='')\n",
    "    return sess.graph"
   ]
  },
  {
   "cell_type": "markdown",
   "metadata": {
    "collapsed": false
   },
   "source": [
    "---"
   ]
  },
  {
   "cell_type": "code",
   "execution_count": 10,
   "metadata": {
    "collapsed": true
   },
   "outputs": [],
   "source": [
    "INPUT_DIRS = [\n",
    "    '/datasets/kaggle/painters/train',\n",
    "    '/datasets/kaggle/painters/test'\n",
    "]\n",
    "\n",
    "OUTPUT_DIRS = {\n",
    "    'bottlenecks': 'out/bottlenecks',\n",
    "    'dimensions': 'out/dimensions',\n",
    "    'exifs': 'out/exifs',\n",
    "}"
   ]
  },
  {
   "cell_type": "code",
   "execution_count": 5,
   "metadata": {
    "collapsed": false
   },
   "outputs": [],
   "source": [
    "for v in OUTPUT_DIRS.values():\n",
    "    if not os.path.isdir(v): os.makedirs(v)"
   ]
  },
  {
   "cell_type": "code",
   "execution_count": 6,
   "metadata": {
    "collapsed": false
   },
   "outputs": [],
   "source": [
    "# init tf sess\n",
    "sess = tf.Session()\n",
    "\n",
    "# restore inceptionv3 graph\n",
    "create_graph('classify_image_graph_def.pb', sess)\n",
    "\n",
    "# summary writer for tensorboard\n",
    "summary_writer = tf.train.SummaryWriter('/tmp/tf-painters-b', graph=sess.graph)"
   ]
  },
  {
   "cell_type": "code",
   "execution_count": 7,
   "metadata": {
    "collapsed": false
   },
   "outputs": [],
   "source": [
    "# find tensors we're interested in\n",
    "bottneck_t = sess.graph.get_tensor_by_name('pool_3/_reshape:0')\n",
    "decode_jpeg_t = sess.graph.get_tensor_by_name('DecodeJpeg/contents:0')"
   ]
  },
  {
   "cell_type": "code",
   "execution_count": 8,
   "metadata": {
    "collapsed": true
   },
   "outputs": [],
   "source": [
    "i = 0\n",
    "files = []\n",
    "\n",
    "for d in INPUT_DIRS:\n",
    "    df = get_files(d)\n",
    "    for f in df:\n",
    "        files.append(d + '/' + f)"
   ]
  },
  {
   "cell_type": "code",
   "execution_count": 11,
   "metadata": {
    "collapsed": false
   },
   "outputs": [
    {
     "name": "stderr",
     "output_type": "stream",
     "text": [
      "  8%|▊         | 8297/103507 [00:00<00:02, 38134.84it/s]"
     ]
    },
    {
     "name": "stdout",
     "output_type": "stream",
     "text": [
      "/datasets/kaggle/painters/train/79499.jpg.correct.jpg\n",
      "/datasets/kaggle/painters/train/92899.jpg.correct.jpg\n"
     ]
    },
    {
     "name": "stderr",
     "output_type": "stream",
     "text": [
      " 20%|██        | 20806/103507 [00:00<00:01, 47725.79it/s]"
     ]
    },
    {
     "name": "stdout",
     "output_type": "stream",
     "text": [
      "/datasets/kaggle/painters/train/91033.jpg.correct.jpg\n",
      "/datasets/kaggle/painters/train/3917.jpg.correct.jpg\n",
      "/datasets/kaggle/painters/train/101947.jpg.correct.jpg\n"
     ]
    },
    {
     "name": "stderr",
     "output_type": "stream",
     "text": [
      " 34%|███▍      | 35145/103507 [00:00<00:02, 31609.45it/s]"
     ]
    },
    {
     "name": "stdout",
     "output_type": "stream",
     "text": [
      "/datasets/kaggle/painters/train/41945.jpg.correct.jpg\n"
     ]
    },
    {
     "name": "stderr",
     "output_type": "stream",
     "text": [
      " 57%|█████▋    | 58875/103507 [00:01<00:01, 29139.04it/s]"
     ]
    },
    {
     "name": "stdout",
     "output_type": "stream",
     "text": [
      "/datasets/kaggle/painters/train/95347.jpg.correct.jpg\n"
     ]
    },
    {
     "name": "stderr",
     "output_type": "stream",
     "text": [
      " 83%|████████▎ | 85732/103507 [00:02<00:00, 48774.51it/s]"
     ]
    },
    {
     "name": "stdout",
     "output_type": "stream",
     "text": [
      "/datasets/kaggle/painters/test/20153.jpg.correct.jpg\n",
      "/datasets/kaggle/painters/test/100532.jpg.correct.jpg\n"
     ]
    },
    {
     "name": "stderr",
     "output_type": "stream",
     "text": [
      "100%|██████████| 103507/103507 [00:02<00:00, 42707.44it/s]"
     ]
    },
    {
     "name": "stdout",
     "output_type": "stream",
     "text": [
      "/datasets/kaggle/painters/test/18649.jpg.correct.jpg\n"
     ]
    },
    {
     "name": "stderr",
     "output_type": "stream",
     "text": [
      "\n"
     ]
    }
   ],
   "source": [
    "i = 0\n",
    "\n",
    "for f in tqdm(files):\n",
    "    \n",
    "    i = i + 1\n",
    "\n",
    "    if 0 == i % 100: summary_writer.flush()  \n",
    "\n",
    "    # if corrected file exists, use it\n",
    "    f_corrected = f + '.correct.jpg'\n",
    "    if (os.path.isfile(f_corrected)): f = f_corrected\n",
    "        \n",
    "    # file id\n",
    "    fid = int(re.findall(r\"\\d+\", f)[0])\n",
    "    \n",
    "    f_bottneck = OUTPUT_DIRS['bottlenecks'] + '/' + str(fid)\n",
    "    f_dims = OUTPUT_DIRS['dimensions'] + '/' + str(fid)\n",
    "    f_exifs = OUTPUT_DIRS['exifs'] + '/' + str(fid)\n",
    "    \n",
    "    if os.path.isfile(f_bottneck) and \\\n",
    "        os.path.isfile(f_dims) and \\\n",
    "        os.path.isfile(f_exifs): continue\n",
    "        \n",
    "    try:\n",
    "        \n",
    "        img = Image.open(f)\n",
    "        \n",
    "        exif = img._getexif()\n",
    "        dims = img.getbbox()[2:]\n",
    "\n",
    "#         print f\n",
    "        image_data = tf.gfile.FastGFile(f, 'rb').read()\n",
    "\n",
    "        # run session with an image\n",
    "        bottneck = sess.run(bottneck_t, {decode_jpeg_t: image_data})\n",
    "        bottneck = np.squeeze(bottneck)\n",
    "        \n",
    "        # save data to files\n",
    "        \n",
    "        bottneck.tofile(f_bottneck)        \n",
    "        np.array(dims).astype(np.float32).tofile(f_dims)\n",
    "        \n",
    "        with open(f_exifs, 'wb') as fh:\n",
    "            fh.write(str(exif))\n",
    "            fh.close()\n",
    "            \n",
    "    except:\n",
    "        e = sys.exc_info()[0]\n",
    "        if exceptions.KeyboardInterrupt == e: raise\n",
    "        print '!', f, sys.exc_info()[0]"
   ]
  },
  {
   "cell_type": "code",
   "execution_count": null,
   "metadata": {
    "collapsed": true
   },
   "outputs": [],
   "source": []
  }
 ],
 "metadata": {
  "kernelspec": {
   "display_name": "Python 2",
   "language": "python",
   "name": "python2"
  },
  "language_info": {
   "codemirror_mode": {
    "name": "ipython",
    "version": 2
   },
   "file_extension": ".py",
   "mimetype": "text/x-python",
   "name": "python",
   "nbconvert_exporter": "python",
   "pygments_lexer": "ipython2",
   "version": "2.7.6"
  }
 },
 "nbformat": 4,
 "nbformat_minor": 1
}
